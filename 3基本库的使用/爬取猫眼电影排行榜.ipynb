{
 "cells": [
  {
   "cell_type": "code",
   "execution_count": 1,
   "source": [
    "import requests\r\n",
    "from requests.exceptions import RequestException\r\n",
    "import json\r\n",
    "import time\r\n",
    "import re\r\n",
    "\r\n",
    "def get_one_page(url):\r\n",
    "    try:\r\n",
    "        headers = {\r\n",
    "            'User-Agent':\"Mozilla/5.0 (Windows NT 10.0; Win64; x64) AppleWebKit/537.36 (KHTML, like Gecko) Chrome/94.0.4606.54 Safari/537.36\"\r\n",
    "        }\r\n",
    "        response = requests.get(url,headers=headers)\r\n",
    "        if response.status_code == 200:\r\n",
    "            return response.text\r\n",
    "        return None\r\n",
    "    except RequestException:\r\n",
    "        return None\r\n",
    "\r\n",
    "def parse_one_page(html):\r\n",
    "    pattern = re.compile('<dd>.*?board-index.*?>(\\d+)</i>.*?data-src=\"(.*?)\".*?name\"><a'\r\n",
    "                        + '.*?>(.*?)</a>.*?star\">(.*?)</p>.*?releasetime\">(.*?)</p>'\r\n",
    "                        + '.*?integer\">(.*?)</i>.*?fraction\">(.*?)</i>.*?</dd>',re.S)\r\n",
    "    \r\n",
    "    items = re.findall(pattern,html)\r\n",
    "    for item in items:\r\n",
    "        yield {\r\n",
    "            'index':item[0],\r\n",
    "            'image':item[1],\r\n",
    "            'title':item[2],\r\n",
    "            'actor':item[3].strip()[3:], \r\n",
    "            'time':item[4].strip()[5:],\r\n",
    "            'score':item[5] + item[6]\r\n",
    "        }\r\n",
    "\r\n",
    "def write_to_file(content):\r\n",
    "    with open('result.txt','a',encoding='utf-8') as f:\r\n",
    "        f.write(json.dumps(content,ensure_ascii=False)+'\\n')\r\n",
    "\r\n",
    "def main(offset):\r\n",
    "    url = 'http://maoyan.com/board/4?offset=' + str(offset)\r\n",
    "    html = get_one_page(url)\r\n",
    "    # time.sleep(10)\r\n",
    "    for item in parse_one_page(html):\r\n",
    "        print(item)\r\n",
    "        write_to_file(item)\r\n",
    "\r\n",
    "if __name__ == '__main__':\r\n",
    "    for i in range(10):\r\n",
    "        main(offset=i*10)\r\n",
    "        time.sleep(10)\r\n"
   ],
   "outputs": [
    {
     "output_type": "error",
     "ename": "KeyboardInterrupt",
     "evalue": "",
     "traceback": [
      "\u001b[1;31m---------------------------------------------------------------------------\u001b[0m",
      "\u001b[1;31mKeyboardInterrupt\u001b[0m                         Traceback (most recent call last)",
      "\u001b[1;32mC:\\Users\\TAOCHA~1\\AppData\\Local\\Temp/ipykernel_18240/2769280384.py\u001b[0m in \u001b[0;36m<module>\u001b[1;34m\u001b[0m\n\u001b[0;32m     48\u001b[0m     \u001b[1;32mfor\u001b[0m \u001b[0mi\u001b[0m \u001b[1;32min\u001b[0m \u001b[0mrange\u001b[0m\u001b[1;33m(\u001b[0m\u001b[1;36m10\u001b[0m\u001b[1;33m)\u001b[0m\u001b[1;33m:\u001b[0m\u001b[1;33m\u001b[0m\u001b[1;33m\u001b[0m\u001b[0m\n\u001b[0;32m     49\u001b[0m         \u001b[0mmain\u001b[0m\u001b[1;33m(\u001b[0m\u001b[0moffset\u001b[0m\u001b[1;33m=\u001b[0m\u001b[0mi\u001b[0m\u001b[1;33m*\u001b[0m\u001b[1;36m10\u001b[0m\u001b[1;33m)\u001b[0m\u001b[1;33m\u001b[0m\u001b[1;33m\u001b[0m\u001b[0m\n\u001b[1;32m---> 50\u001b[1;33m         \u001b[0mtime\u001b[0m\u001b[1;33m.\u001b[0m\u001b[0msleep\u001b[0m\u001b[1;33m(\u001b[0m\u001b[1;36m10\u001b[0m\u001b[1;33m)\u001b[0m\u001b[1;33m\u001b[0m\u001b[1;33m\u001b[0m\u001b[0m\n\u001b[0m",
      "\u001b[1;31mKeyboardInterrupt\u001b[0m: "
     ]
    }
   ],
   "metadata": {}
  },
  {
   "cell_type": "markdown",
   "source": [
    "使用库requests和re  \r\n",
    "\r\n",
    "打开 http://maoyan.com/board/4，可以看到猫眼电影排行榜页面  \r\n",
    "然后到最下端切换页面，观察url的变化规律，https://maoyan.com/board/4?offset=10，可以知道与offset值有关  \r\n",
    "\r\n"
   ],
   "metadata": {}
  }
 ],
 "metadata": {
  "orig_nbformat": 4,
  "language_info": {
   "name": "python",
   "version": "3.9.7",
   "mimetype": "text/x-python",
   "codemirror_mode": {
    "name": "ipython",
    "version": 3
   },
   "pygments_lexer": "ipython3",
   "nbconvert_exporter": "python",
   "file_extension": ".py"
  },
  "kernelspec": {
   "name": "python3",
   "display_name": "Python 3.9.7 64-bit ('taospider': conda)"
  },
  "interpreter": {
   "hash": "5a9c74f9ddab460e2352f0e47bb442e4eed96a5bc7e13c855154765695853dc5"
  }
 },
 "nbformat": 4,
 "nbformat_minor": 2
}